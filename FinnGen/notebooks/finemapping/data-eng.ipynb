{
 "cells": [
  {
   "cell_type": "markdown",
   "id": "00910a35-ffbc-4497-bcc8-21f008c326fb",
   "metadata": {
    "tags": []
   },
   "source": [
    "# FinnGen - Data Engineering Notebook"
   ]
  },
  {
   "cell_type": "markdown",
   "id": "a6fd8be8-14cc-4d80-a944-76c5235c078b",
   "metadata": {
    "tags": []
   },
   "source": [
    "## Data Descriptions"
   ]
  },
  {
   "cell_type": "markdown",
   "id": "c1846d70-3c09-4b34-a05b-b72706e828fa",
   "metadata": {
    "tags": []
   },
   "source": [
    "### gwas"
   ]
  },
  {
   "cell_type": "markdown",
   "id": "8535f83a-6468-41bb-b3dc-6e678783c019",
   "metadata": {
    "jp-MarkdownHeadingCollapsed": true,
    "tags": []
   },
   "source": [
    "\n",
    "The `{endpoint}.gz` file has the following structure:\n",
    "\n",
    "| Column name   | Description                                                 |\n",
    "| ------------- | ----------------------------------------------------------- |\n",
    "| #chrom        | chromosome on build GRCh38 (1-23)                           |\n",
    "| pos           | position in base pairs on build GRCh38                       |\n",
    "| ref           | reference allele                                            |\n",
    "| alt           | alternative allele (effect allele)                           |\n",
    "| rsids         | variant identifier                                          |\n",
    "| nearest_genes | nearest gene(s) (comma separated) from variant               |\n",
    "| pval          | p-value from [source]                                        |\n",
    "| mlogp         | -log10(p-value)                                             |\n",
    "| beta          | effect size (log(OR) scale) estimated with [source]          |\n",
    "| sebeta        | standard error of effect size estimated with [source]        |\n",
    "| af_alt        | alternative (effect) allele frequency                        |\n",
    "| af_alt_cases  | alternative (effect) allele frequency among cases            |\n",
    "| af_alt_controls | alternative (effect) allele frequency among controls         |\n"
   ]
  },
  {
   "cell_type": "markdown",
   "id": "4fe3adfe-4cf2-4364-8436-13fbd76cb5b8",
   "metadata": {
    "tags": []
   },
   "source": [
    "### causal"
   ]
  },
  {
   "cell_type": "markdown",
   "id": "ef7c3221-9d4e-480c-91fc-aff10d684f3b",
   "metadata": {},
   "source": [
    "Data taken from:\n",
    "\n",
    "[Functional characterization of T2D-associated SNP effects on baseline and ER stress-responsive β cell transcriptional activation](https://www.nature.com/articles/s41467-021-25514-6#MOESM8)"
   ]
  },
  {
   "cell_type": "markdown",
   "id": "7a7cea15-a49b-4ee2-87a5-bf625453328e",
   "metadata": {
    "tags": []
   },
   "source": [
    "### finemap"
   ]
  },
  {
   "cell_type": "markdown",
   "id": "10f3aafa-e866-463a-8cd1-a7416b1ff129",
   "metadata": {},
   "source": [
    "{endpoint}.SUSIE.snp.bgz` contains variant summaries with credible set information and has the following structure:\n",
    "\n",
    "| Column name    | Description                                                        |\n",
    "| -------------- | ------------------------------------------------------------------ |\n",
    "| trait          | endpoint name                                                      |\n",
    "| region         | chr:start-end                                                      |\n",
    "| v              | variant identifier                                                 |\n",
    "| rsid           | rs variant identifier                                              |\n",
    "| chromosome     | chromosome on build GRCh38 (1-22, X)                                |\n",
    "| position       | position in base pairs on build GRCh38                              |\n",
    "| allele1        | reference allele                                                   |\n",
    "| allele2        | alternative allele (effect allele)                                  |\n",
    "| maf            | minor allele frequency                                             |\n",
    "| beta           | effect size GWAS                                                   |\n",
    "| se             | standard error GWAS                                                |\n",
    "| p              | p-value GWAS                                                       |\n",
    "| mean           | posterior expectation of true effect size                           |\n",
    "| sd             | posterior standard deviation of true effect size                   |\n",
    "| prob           | posterior probability of association                                |\n",
    "| cs             | identifier of 95% credible set (-1 = variant is not part of credible set) |\n",
    "| lead_r2        | r2 value to a lead variant (the one with maximum PIP) in a credible set |\n",
    "| alphax         | posterior inclusion probability for the x-th single effect (x := 1..L where L is the number of single effects (causal variants) specified; default: L = 10) |"
   ]
  },
  {
   "cell_type": "markdown",
   "id": "018acd43-12a7-41be-bf26-fc1d03dd7ef7",
   "metadata": {
    "tags": []
   },
   "source": [
    "## Libraries"
   ]
  },
  {
   "cell_type": "code",
   "execution_count": 1,
   "id": "483d7bbb-33ef-4893-b03c-6173b7253544",
   "metadata": {
    "tags": []
   },
   "outputs": [
    {
     "name": "stdout",
     "output_type": "stream",
     "text": [
      "Python version: 3.11.4 (tags/v3.11.4:d2340ef, Jun  7 2023, 05:45:37) [MSC v.1934 64 bit (AMD64)]\n",
      "Pandas version: 1.5.3\n",
      "NumPy version: 1.24.1\n"
     ]
    }
   ],
   "source": [
    "import sys\n",
    "import pandas as pd\n",
    "import numpy as np\n",
    "import requests\n",
    "import time\n",
    "from concurrent.futures import ThreadPoolExecutor\n",
    "\n",
    "\n",
    "\n",
    "print(\"Python version:\", sys.version)\n",
    "print(\"Pandas version:\", pd.__version__)\n",
    "print(\"NumPy version:\", np.__version__)"
   ]
  },
  {
   "cell_type": "markdown",
   "id": "445033a6-7000-4fb6-9c4d-cfe03f570b1c",
   "metadata": {
    "tags": []
   },
   "source": [
    "## Import data"
   ]
  },
  {
   "cell_type": "code",
   "execution_count": 2,
   "id": "f1c04950-d2ca-4421-be63-297d26fc3096",
   "metadata": {},
   "outputs": [
    {
     "name": "stdout",
     "output_type": "stream",
     "text": [
      "C:\\Users\\Windows\\Desktop\\GeoGWAS\\FinnGen\\notebooks\\finemapping\n"
     ]
    }
   ],
   "source": [
    "import os\n",
    "\n",
    "# Get the current working directory\n",
    "current_directory = os.getcwd()\n",
    "\n",
    "print(current_directory)"
   ]
  },
  {
   "cell_type": "code",
   "execution_count": 3,
   "id": "d4345459-b1ef-477c-8f06-c8f54c194af0",
   "metadata": {
    "tags": []
   },
   "outputs": [],
   "source": [
    "# Read the 'finemap' file into a pandas DataFrame\n",
    "finemap = pd.read_csv('C:/Users/Windows/Desktop/GeoGWAS/FinnGen/data/finemapping_full_finngen_R9_I9_HYPTENS.FINEMAP.snp.tsv', low_memory=False, sep='\\t')\n",
    "\n",
    "# Read the 'causal' file into a pandas DataFrame\n",
    "#precausal = pd.read_csv('C:/Users/Windows/Desktop/GeoGWAS/FinnGen/data/precausal-t2d.csv', low_memory=False)\n",
    "\n",
    "# Read the 'causal' file into a pandas DataFrame\n",
    "#causal = pd.read_csv('C:/Users/Windows/Desktop/GeoGWAS/FinnGen/data/causal-t2d.csv', low_memory=False)\n",
    "\n",
    "# Read the 'gwas' file into a pandas DataFrame\n",
    "gwas = pd.read_csv('C:/Users/Windows/Desktop/GeoGWAS/FinnGen/data/summary_stats_finngen_R9_I9_HYPTENS.tsv', low_memory=False, sep='\\t')"
   ]
  },
  {
   "cell_type": "code",
   "execution_count": 4,
   "id": "ffc11568-26b1-4283-b6b6-e1fd478f29e2",
   "metadata": {
    "tags": []
   },
   "outputs": [
    {
     "name": "stdout",
     "output_type": "stream",
     "text": [
      "NaNs and missing values in 'gwas':\n",
      "#chrom                   0\n",
      "pos                      0\n",
      "ref                      0\n",
      "alt                      0\n",
      "rsids              1366441\n",
      "nearest_genes       727861\n",
      "pval                     0\n",
      "mlogp                    0\n",
      "beta                     0\n",
      "sebeta                   0\n",
      "af_alt                   0\n",
      "af_alt_cases             0\n",
      "af_alt_controls          0\n",
      "dtype: int64\n"
     ]
    }
   ],
   "source": [
    "print(\"NaNs and missing values in 'gwas':\")\n",
    "empty = gwas.isna().sum()\n",
    "print(empty)"
   ]
  },
  {
   "cell_type": "markdown",
   "id": "3610b12e-d085-49a4-91e8-273fcb9dad32",
   "metadata": {
    "tags": []
   },
   "source": [
    "## Explore data"
   ]
  },
  {
   "cell_type": "code",
   "execution_count": 5,
   "id": "e3742572-cf8b-48a5-a540-4b99d41324b1",
   "metadata": {
    "tags": []
   },
   "outputs": [
    {
     "data": {
      "text/html": [
       "<div>\n",
       "<style scoped>\n",
       "    .dataframe tbody tr th:only-of-type {\n",
       "        vertical-align: middle;\n",
       "    }\n",
       "\n",
       "    .dataframe tbody tr th {\n",
       "        vertical-align: top;\n",
       "    }\n",
       "\n",
       "    .dataframe thead th {\n",
       "        text-align: right;\n",
       "    }\n",
       "</style>\n",
       "<table border=\"1\" class=\"dataframe\">\n",
       "  <thead>\n",
       "    <tr style=\"text-align: right;\">\n",
       "      <th></th>\n",
       "      <th>#chrom</th>\n",
       "      <th>pos</th>\n",
       "      <th>ref</th>\n",
       "      <th>alt</th>\n",
       "      <th>rsids</th>\n",
       "      <th>nearest_genes</th>\n",
       "      <th>pval</th>\n",
       "      <th>mlogp</th>\n",
       "      <th>beta</th>\n",
       "      <th>sebeta</th>\n",
       "      <th>af_alt</th>\n",
       "      <th>af_alt_cases</th>\n",
       "      <th>af_alt_controls</th>\n",
       "    </tr>\n",
       "  </thead>\n",
       "  <tbody>\n",
       "    <tr>\n",
       "      <th>0</th>\n",
       "      <td>1</td>\n",
       "      <td>13668</td>\n",
       "      <td>G</td>\n",
       "      <td>A</td>\n",
       "      <td>rs2691328</td>\n",
       "      <td>OR4F5</td>\n",
       "      <td>0.106658</td>\n",
       "      <td>0.972006</td>\n",
       "      <td>-0.114822</td>\n",
       "      <td>0.071168</td>\n",
       "      <td>0.005846</td>\n",
       "      <td>0.005683</td>\n",
       "      <td>0.005914</td>\n",
       "    </tr>\n",
       "    <tr>\n",
       "      <th>1</th>\n",
       "      <td>1</td>\n",
       "      <td>14773</td>\n",
       "      <td>C</td>\n",
       "      <td>T</td>\n",
       "      <td>rs878915777</td>\n",
       "      <td>OR4F5</td>\n",
       "      <td>0.620115</td>\n",
       "      <td>0.207528</td>\n",
       "      <td>-0.021548</td>\n",
       "      <td>0.043470</td>\n",
       "      <td>0.013501</td>\n",
       "      <td>0.013448</td>\n",
       "      <td>0.013524</td>\n",
       "    </tr>\n",
       "    <tr>\n",
       "      <th>2</th>\n",
       "      <td>1</td>\n",
       "      <td>15585</td>\n",
       "      <td>G</td>\n",
       "      <td>A</td>\n",
       "      <td>rs533630043</td>\n",
       "      <td>OR4F5</td>\n",
       "      <td>0.859628</td>\n",
       "      <td>0.065689</td>\n",
       "      <td>-0.023716</td>\n",
       "      <td>0.134105</td>\n",
       "      <td>0.001112</td>\n",
       "      <td>0.001117</td>\n",
       "      <td>0.001109</td>\n",
       "    </tr>\n",
       "    <tr>\n",
       "      <th>3</th>\n",
       "      <td>1</td>\n",
       "      <td>16549</td>\n",
       "      <td>T</td>\n",
       "      <td>C</td>\n",
       "      <td>rs1262014613</td>\n",
       "      <td>OR4F5</td>\n",
       "      <td>0.321844</td>\n",
       "      <td>0.492355</td>\n",
       "      <td>-0.215787</td>\n",
       "      <td>0.217818</td>\n",
       "      <td>0.000563</td>\n",
       "      <td>0.000556</td>\n",
       "      <td>0.000566</td>\n",
       "    </tr>\n",
       "    <tr>\n",
       "      <th>4</th>\n",
       "      <td>1</td>\n",
       "      <td>16567</td>\n",
       "      <td>G</td>\n",
       "      <td>C</td>\n",
       "      <td>rs1194064194</td>\n",
       "      <td>OR4F5</td>\n",
       "      <td>0.764225</td>\n",
       "      <td>0.116779</td>\n",
       "      <td>0.021523</td>\n",
       "      <td>0.071757</td>\n",
       "      <td>0.004192</td>\n",
       "      <td>0.004207</td>\n",
       "      <td>0.004186</td>\n",
       "    </tr>\n",
       "    <tr>\n",
       "      <th>...</th>\n",
       "      <td>...</td>\n",
       "      <td>...</td>\n",
       "      <td>...</td>\n",
       "      <td>...</td>\n",
       "      <td>...</td>\n",
       "      <td>...</td>\n",
       "      <td>...</td>\n",
       "      <td>...</td>\n",
       "      <td>...</td>\n",
       "      <td>...</td>\n",
       "      <td>...</td>\n",
       "      <td>...</td>\n",
       "      <td>...</td>\n",
       "    </tr>\n",
       "    <tr>\n",
       "      <th>20170229</th>\n",
       "      <td>23</td>\n",
       "      <td>155697920</td>\n",
       "      <td>G</td>\n",
       "      <td>A</td>\n",
       "      <td>NaN</td>\n",
       "      <td>NaN</td>\n",
       "      <td>0.435606</td>\n",
       "      <td>0.360906</td>\n",
       "      <td>0.004066</td>\n",
       "      <td>0.005215</td>\n",
       "      <td>0.291210</td>\n",
       "      <td>0.291159</td>\n",
       "      <td>0.291231</td>\n",
       "    </tr>\n",
       "    <tr>\n",
       "      <th>20170230</th>\n",
       "      <td>23</td>\n",
       "      <td>155698443</td>\n",
       "      <td>C</td>\n",
       "      <td>A</td>\n",
       "      <td>NaN</td>\n",
       "      <td>NaN</td>\n",
       "      <td>0.559723</td>\n",
       "      <td>0.252027</td>\n",
       "      <td>0.025926</td>\n",
       "      <td>0.044450</td>\n",
       "      <td>0.003263</td>\n",
       "      <td>0.003298</td>\n",
       "      <td>0.003248</td>\n",
       "    </tr>\n",
       "    <tr>\n",
       "      <th>20170231</th>\n",
       "      <td>23</td>\n",
       "      <td>155698490</td>\n",
       "      <td>C</td>\n",
       "      <td>T</td>\n",
       "      <td>NaN</td>\n",
       "      <td>NaN</td>\n",
       "      <td>0.007623</td>\n",
       "      <td>2.117900</td>\n",
       "      <td>-0.043135</td>\n",
       "      <td>0.016165</td>\n",
       "      <td>0.024340</td>\n",
       "      <td>0.023984</td>\n",
       "      <td>0.024489</td>\n",
       "    </tr>\n",
       "    <tr>\n",
       "      <th>20170232</th>\n",
       "      <td>23</td>\n",
       "      <td>155699751</td>\n",
       "      <td>C</td>\n",
       "      <td>T</td>\n",
       "      <td>NaN</td>\n",
       "      <td>NaN</td>\n",
       "      <td>0.160090</td>\n",
       "      <td>0.795637</td>\n",
       "      <td>0.007715</td>\n",
       "      <td>0.005492</td>\n",
       "      <td>0.245151</td>\n",
       "      <td>0.245738</td>\n",
       "      <td>0.244904</td>\n",
       "    </tr>\n",
       "    <tr>\n",
       "      <th>20170233</th>\n",
       "      <td>23</td>\n",
       "      <td>155700291</td>\n",
       "      <td>CAA</td>\n",
       "      <td>C</td>\n",
       "      <td>NaN</td>\n",
       "      <td>NaN</td>\n",
       "      <td>0.149323</td>\n",
       "      <td>0.825873</td>\n",
       "      <td>0.007914</td>\n",
       "      <td>0.005489</td>\n",
       "      <td>0.245648</td>\n",
       "      <td>0.246278</td>\n",
       "      <td>0.245383</td>\n",
       "    </tr>\n",
       "  </tbody>\n",
       "</table>\n",
       "<p>20170234 rows × 13 columns</p>\n",
       "</div>"
      ],
      "text/plain": [
       "          #chrom        pos  ref alt         rsids nearest_genes      pval  \\\n",
       "0              1      13668    G   A     rs2691328         OR4F5  0.106658   \n",
       "1              1      14773    C   T   rs878915777         OR4F5  0.620115   \n",
       "2              1      15585    G   A   rs533630043         OR4F5  0.859628   \n",
       "3              1      16549    T   C  rs1262014613         OR4F5  0.321844   \n",
       "4              1      16567    G   C  rs1194064194         OR4F5  0.764225   \n",
       "...          ...        ...  ...  ..           ...           ...       ...   \n",
       "20170229      23  155697920    G   A           NaN           NaN  0.435606   \n",
       "20170230      23  155698443    C   A           NaN           NaN  0.559723   \n",
       "20170231      23  155698490    C   T           NaN           NaN  0.007623   \n",
       "20170232      23  155699751    C   T           NaN           NaN  0.160090   \n",
       "20170233      23  155700291  CAA   C           NaN           NaN  0.149323   \n",
       "\n",
       "             mlogp      beta    sebeta    af_alt  af_alt_cases  \\\n",
       "0         0.972006 -0.114822  0.071168  0.005846      0.005683   \n",
       "1         0.207528 -0.021548  0.043470  0.013501      0.013448   \n",
       "2         0.065689 -0.023716  0.134105  0.001112      0.001117   \n",
       "3         0.492355 -0.215787  0.217818  0.000563      0.000556   \n",
       "4         0.116779  0.021523  0.071757  0.004192      0.004207   \n",
       "...            ...       ...       ...       ...           ...   \n",
       "20170229  0.360906  0.004066  0.005215  0.291210      0.291159   \n",
       "20170230  0.252027  0.025926  0.044450  0.003263      0.003298   \n",
       "20170231  2.117900 -0.043135  0.016165  0.024340      0.023984   \n",
       "20170232  0.795637  0.007715  0.005492  0.245151      0.245738   \n",
       "20170233  0.825873  0.007914  0.005489  0.245648      0.246278   \n",
       "\n",
       "          af_alt_controls  \n",
       "0                0.005914  \n",
       "1                0.013524  \n",
       "2                0.001109  \n",
       "3                0.000566  \n",
       "4                0.004186  \n",
       "...                   ...  \n",
       "20170229         0.291231  \n",
       "20170230         0.003248  \n",
       "20170231         0.024489  \n",
       "20170232         0.244904  \n",
       "20170233         0.245383  \n",
       "\n",
       "[20170234 rows x 13 columns]"
      ]
     },
     "execution_count": 5,
     "metadata": {},
     "output_type": "execute_result"
    }
   ],
   "source": [
    "gwas"
   ]
  },
  {
   "cell_type": "code",
   "execution_count": 6,
   "id": "22599a9a-ce49-465b-b4a4-9d5f08c3eb63",
   "metadata": {},
   "outputs": [],
   "source": [
    "#precausal"
   ]
  },
  {
   "cell_type": "code",
   "execution_count": 7,
   "id": "8c5681a2-85f4-4fd3-a3b9-de8824651d5c",
   "metadata": {
    "tags": []
   },
   "outputs": [],
   "source": [
    "#causal.head()"
   ]
  },
  {
   "cell_type": "code",
   "execution_count": 8,
   "id": "dc659323-8943-4e41-9f41-5cd0c8e2c17e",
   "metadata": {
    "tags": []
   },
   "outputs": [
    {
     "data": {
      "text/html": [
       "<div>\n",
       "<style scoped>\n",
       "    .dataframe tbody tr th:only-of-type {\n",
       "        vertical-align: middle;\n",
       "    }\n",
       "\n",
       "    .dataframe tbody tr th {\n",
       "        vertical-align: top;\n",
       "    }\n",
       "\n",
       "    .dataframe thead th {\n",
       "        text-align: right;\n",
       "    }\n",
       "</style>\n",
       "<table border=\"1\" class=\"dataframe\">\n",
       "  <thead>\n",
       "    <tr style=\"text-align: right;\">\n",
       "      <th></th>\n",
       "      <th>trait</th>\n",
       "      <th>region</th>\n",
       "      <th>v</th>\n",
       "      <th>index</th>\n",
       "      <th>rsid</th>\n",
       "      <th>chromosome</th>\n",
       "      <th>position</th>\n",
       "      <th>allele1</th>\n",
       "      <th>allele2</th>\n",
       "      <th>maf</th>\n",
       "      <th>...</th>\n",
       "      <th>cs</th>\n",
       "      <th>cs2</th>\n",
       "      <th>cs3</th>\n",
       "      <th>cs4</th>\n",
       "      <th>cs5</th>\n",
       "      <th>cs6</th>\n",
       "      <th>cs7</th>\n",
       "      <th>cs8</th>\n",
       "      <th>cs9</th>\n",
       "      <th>cs10</th>\n",
       "    </tr>\n",
       "  </thead>\n",
       "  <tbody>\n",
       "    <tr>\n",
       "      <th>0</th>\n",
       "      <td>I9_HYPTENS</td>\n",
       "      <td>chr1:1912095-4912095</td>\n",
       "      <td>1:1912100:C:G</td>\n",
       "      <td>1</td>\n",
       "      <td>chr1_1912100_C_G</td>\n",
       "      <td>chr1</td>\n",
       "      <td>1912100</td>\n",
       "      <td>C</td>\n",
       "      <td>G</td>\n",
       "      <td>0.015211</td>\n",
       "      <td>...</td>\n",
       "      <td>-1</td>\n",
       "      <td>2</td>\n",
       "      <td>-1</td>\n",
       "      <td>-1</td>\n",
       "      <td>-1</td>\n",
       "      <td>-1</td>\n",
       "      <td>-1</td>\n",
       "      <td>-1</td>\n",
       "      <td>-1</td>\n",
       "      <td>-1</td>\n",
       "    </tr>\n",
       "    <tr>\n",
       "      <th>1</th>\n",
       "      <td>I9_HYPTENS</td>\n",
       "      <td>chr1:1912095-4912095</td>\n",
       "      <td>1:1912140:T:G</td>\n",
       "      <td>2</td>\n",
       "      <td>chr1_1912140_T_G</td>\n",
       "      <td>chr1</td>\n",
       "      <td>1912140</td>\n",
       "      <td>T</td>\n",
       "      <td>G</td>\n",
       "      <td>0.163095</td>\n",
       "      <td>...</td>\n",
       "      <td>-1</td>\n",
       "      <td>2</td>\n",
       "      <td>-1</td>\n",
       "      <td>-1</td>\n",
       "      <td>-1</td>\n",
       "      <td>-1</td>\n",
       "      <td>-1</td>\n",
       "      <td>-1</td>\n",
       "      <td>-1</td>\n",
       "      <td>-1</td>\n",
       "    </tr>\n",
       "    <tr>\n",
       "      <th>2</th>\n",
       "      <td>I9_HYPTENS</td>\n",
       "      <td>chr1:1912095-4912095</td>\n",
       "      <td>1:1912582:C:T</td>\n",
       "      <td>3</td>\n",
       "      <td>chr1_1912582_C_T</td>\n",
       "      <td>chr1</td>\n",
       "      <td>1912582</td>\n",
       "      <td>C</td>\n",
       "      <td>T</td>\n",
       "      <td>0.002733</td>\n",
       "      <td>...</td>\n",
       "      <td>-1</td>\n",
       "      <td>-1</td>\n",
       "      <td>-1</td>\n",
       "      <td>-1</td>\n",
       "      <td>-1</td>\n",
       "      <td>-1</td>\n",
       "      <td>-1</td>\n",
       "      <td>-1</td>\n",
       "      <td>-1</td>\n",
       "      <td>-1</td>\n",
       "    </tr>\n",
       "    <tr>\n",
       "      <th>3</th>\n",
       "      <td>I9_HYPTENS</td>\n",
       "      <td>chr1:1912095-4912095</td>\n",
       "      <td>1:1912607:C:T</td>\n",
       "      <td>4</td>\n",
       "      <td>chr1_1912607_C_T</td>\n",
       "      <td>chr1</td>\n",
       "      <td>1912607</td>\n",
       "      <td>C</td>\n",
       "      <td>T</td>\n",
       "      <td>0.486808</td>\n",
       "      <td>...</td>\n",
       "      <td>-1</td>\n",
       "      <td>2</td>\n",
       "      <td>-1</td>\n",
       "      <td>-1</td>\n",
       "      <td>-1</td>\n",
       "      <td>-1</td>\n",
       "      <td>-1</td>\n",
       "      <td>-1</td>\n",
       "      <td>-1</td>\n",
       "      <td>-1</td>\n",
       "    </tr>\n",
       "    <tr>\n",
       "      <th>4</th>\n",
       "      <td>I9_HYPTENS</td>\n",
       "      <td>chr1:1912095-4912095</td>\n",
       "      <td>1:1913112:AATTTTTTT:A</td>\n",
       "      <td>5</td>\n",
       "      <td>chr1_1913112_AATTTTTTT_A</td>\n",
       "      <td>chr1</td>\n",
       "      <td>1913112</td>\n",
       "      <td>AATTTTTTT</td>\n",
       "      <td>A</td>\n",
       "      <td>0.036309</td>\n",
       "      <td>...</td>\n",
       "      <td>-1</td>\n",
       "      <td>2</td>\n",
       "      <td>-1</td>\n",
       "      <td>-1</td>\n",
       "      <td>-1</td>\n",
       "      <td>-1</td>\n",
       "      <td>-1</td>\n",
       "      <td>-1</td>\n",
       "      <td>-1</td>\n",
       "      <td>-1</td>\n",
       "    </tr>\n",
       "    <tr>\n",
       "      <th>...</th>\n",
       "      <td>...</td>\n",
       "      <td>...</td>\n",
       "      <td>...</td>\n",
       "      <td>...</td>\n",
       "      <td>...</td>\n",
       "      <td>...</td>\n",
       "      <td>...</td>\n",
       "      <td>...</td>\n",
       "      <td>...</td>\n",
       "      <td>...</td>\n",
       "      <td>...</td>\n",
       "      <td>...</td>\n",
       "      <td>...</td>\n",
       "      <td>...</td>\n",
       "      <td>...</td>\n",
       "      <td>...</td>\n",
       "      <td>...</td>\n",
       "      <td>...</td>\n",
       "      <td>...</td>\n",
       "      <td>...</td>\n",
       "      <td>...</td>\n",
       "    </tr>\n",
       "    <tr>\n",
       "      <th>3501810</th>\n",
       "      <td>I9_HYPTENS</td>\n",
       "      <td>chrX:101186298-104186298</td>\n",
       "      <td>X:104183802:G:A</td>\n",
       "      <td>11389</td>\n",
       "      <td>chrX_104183802_G_A</td>\n",
       "      <td>chrX</td>\n",
       "      <td>104183802</td>\n",
       "      <td>G</td>\n",
       "      <td>A</td>\n",
       "      <td>0.018745</td>\n",
       "      <td>...</td>\n",
       "      <td>-1</td>\n",
       "      <td>2</td>\n",
       "      <td>-1</td>\n",
       "      <td>-1</td>\n",
       "      <td>-1</td>\n",
       "      <td>-1</td>\n",
       "      <td>-1</td>\n",
       "      <td>-1</td>\n",
       "      <td>-1</td>\n",
       "      <td>-1</td>\n",
       "    </tr>\n",
       "    <tr>\n",
       "      <th>3501811</th>\n",
       "      <td>I9_HYPTENS</td>\n",
       "      <td>chrX:101186298-104186298</td>\n",
       "      <td>X:104184456:G:A</td>\n",
       "      <td>11390</td>\n",
       "      <td>chrX_104184456_G_A</td>\n",
       "      <td>chrX</td>\n",
       "      <td>104184456</td>\n",
       "      <td>G</td>\n",
       "      <td>A</td>\n",
       "      <td>0.000862</td>\n",
       "      <td>...</td>\n",
       "      <td>-1</td>\n",
       "      <td>2</td>\n",
       "      <td>-1</td>\n",
       "      <td>-1</td>\n",
       "      <td>-1</td>\n",
       "      <td>-1</td>\n",
       "      <td>-1</td>\n",
       "      <td>-1</td>\n",
       "      <td>-1</td>\n",
       "      <td>-1</td>\n",
       "    </tr>\n",
       "    <tr>\n",
       "      <th>3501812</th>\n",
       "      <td>I9_HYPTENS</td>\n",
       "      <td>chrX:101186298-104186298</td>\n",
       "      <td>X:104184803:C:G</td>\n",
       "      <td>11391</td>\n",
       "      <td>chrX_104184803_C_G</td>\n",
       "      <td>chrX</td>\n",
       "      <td>104184803</td>\n",
       "      <td>C</td>\n",
       "      <td>G</td>\n",
       "      <td>0.001040</td>\n",
       "      <td>...</td>\n",
       "      <td>-1</td>\n",
       "      <td>-1</td>\n",
       "      <td>-1</td>\n",
       "      <td>-1</td>\n",
       "      <td>-1</td>\n",
       "      <td>-1</td>\n",
       "      <td>-1</td>\n",
       "      <td>-1</td>\n",
       "      <td>-1</td>\n",
       "      <td>-1</td>\n",
       "    </tr>\n",
       "    <tr>\n",
       "      <th>3501813</th>\n",
       "      <td>I9_HYPTENS</td>\n",
       "      <td>chrX:101186298-104186298</td>\n",
       "      <td>X:104184890:T:C</td>\n",
       "      <td>11392</td>\n",
       "      <td>chrX_104184890_T_C</td>\n",
       "      <td>chrX</td>\n",
       "      <td>104184890</td>\n",
       "      <td>T</td>\n",
       "      <td>C</td>\n",
       "      <td>0.019200</td>\n",
       "      <td>...</td>\n",
       "      <td>-1</td>\n",
       "      <td>2</td>\n",
       "      <td>-1</td>\n",
       "      <td>-1</td>\n",
       "      <td>-1</td>\n",
       "      <td>-1</td>\n",
       "      <td>-1</td>\n",
       "      <td>-1</td>\n",
       "      <td>-1</td>\n",
       "      <td>-1</td>\n",
       "    </tr>\n",
       "    <tr>\n",
       "      <th>3501814</th>\n",
       "      <td>I9_HYPTENS</td>\n",
       "      <td>chrX:101186298-104186298</td>\n",
       "      <td>X:104185228:G:C</td>\n",
       "      <td>11393</td>\n",
       "      <td>chrX_104185228_G_C</td>\n",
       "      <td>chrX</td>\n",
       "      <td>104185228</td>\n",
       "      <td>G</td>\n",
       "      <td>C</td>\n",
       "      <td>0.005913</td>\n",
       "      <td>...</td>\n",
       "      <td>-1</td>\n",
       "      <td>-1</td>\n",
       "      <td>-1</td>\n",
       "      <td>-1</td>\n",
       "      <td>-1</td>\n",
       "      <td>-1</td>\n",
       "      <td>-1</td>\n",
       "      <td>-1</td>\n",
       "      <td>-1</td>\n",
       "      <td>-1</td>\n",
       "    </tr>\n",
       "  </tbody>\n",
       "</table>\n",
       "<p>3501815 rows × 30 columns</p>\n",
       "</div>"
      ],
      "text/plain": [
       "              trait                    region                      v  index  \\\n",
       "0        I9_HYPTENS      chr1:1912095-4912095          1:1912100:C:G      1   \n",
       "1        I9_HYPTENS      chr1:1912095-4912095          1:1912140:T:G      2   \n",
       "2        I9_HYPTENS      chr1:1912095-4912095          1:1912582:C:T      3   \n",
       "3        I9_HYPTENS      chr1:1912095-4912095          1:1912607:C:T      4   \n",
       "4        I9_HYPTENS      chr1:1912095-4912095  1:1913112:AATTTTTTT:A      5   \n",
       "...             ...                       ...                    ...    ...   \n",
       "3501810  I9_HYPTENS  chrX:101186298-104186298        X:104183802:G:A  11389   \n",
       "3501811  I9_HYPTENS  chrX:101186298-104186298        X:104184456:G:A  11390   \n",
       "3501812  I9_HYPTENS  chrX:101186298-104186298        X:104184803:C:G  11391   \n",
       "3501813  I9_HYPTENS  chrX:101186298-104186298        X:104184890:T:C  11392   \n",
       "3501814  I9_HYPTENS  chrX:101186298-104186298        X:104185228:G:C  11393   \n",
       "\n",
       "                             rsid chromosome   position    allele1 allele2  \\\n",
       "0                chr1_1912100_C_G       chr1    1912100          C       G   \n",
       "1                chr1_1912140_T_G       chr1    1912140          T       G   \n",
       "2                chr1_1912582_C_T       chr1    1912582          C       T   \n",
       "3                chr1_1912607_C_T       chr1    1912607          C       T   \n",
       "4        chr1_1913112_AATTTTTTT_A       chr1    1913112  AATTTTTTT       A   \n",
       "...                           ...        ...        ...        ...     ...   \n",
       "3501810        chrX_104183802_G_A       chrX  104183802          G       A   \n",
       "3501811        chrX_104184456_G_A       chrX  104184456          G       A   \n",
       "3501812        chrX_104184803_C_G       chrX  104184803          C       G   \n",
       "3501813        chrX_104184890_T_C       chrX  104184890          T       C   \n",
       "3501814        chrX_104185228_G_C       chrX  104185228          G       C   \n",
       "\n",
       "              maf  ...  cs  cs2  cs3  cs4  cs5  cs6  cs7  cs8  cs9  cs10  \n",
       "0        0.015211  ...  -1    2   -1   -1   -1   -1   -1   -1   -1    -1  \n",
       "1        0.163095  ...  -1    2   -1   -1   -1   -1   -1   -1   -1    -1  \n",
       "2        0.002733  ...  -1   -1   -1   -1   -1   -1   -1   -1   -1    -1  \n",
       "3        0.486808  ...  -1    2   -1   -1   -1   -1   -1   -1   -1    -1  \n",
       "4        0.036309  ...  -1    2   -1   -1   -1   -1   -1   -1   -1    -1  \n",
       "...           ...  ...  ..  ...  ...  ...  ...  ...  ...  ...  ...   ...  \n",
       "3501810  0.018745  ...  -1    2   -1   -1   -1   -1   -1   -1   -1    -1  \n",
       "3501811  0.000862  ...  -1    2   -1   -1   -1   -1   -1   -1   -1    -1  \n",
       "3501812  0.001040  ...  -1   -1   -1   -1   -1   -1   -1   -1   -1    -1  \n",
       "3501813  0.019200  ...  -1    2   -1   -1   -1   -1   -1   -1   -1    -1  \n",
       "3501814  0.005913  ...  -1   -1   -1   -1   -1   -1   -1   -1   -1    -1  \n",
       "\n",
       "[3501815 rows x 30 columns]"
      ]
     },
     "execution_count": 8,
     "metadata": {},
     "output_type": "execute_result"
    }
   ],
   "source": [
    "finemap"
   ]
  },
  {
   "cell_type": "code",
   "execution_count": null,
   "id": "95020fad-f610-4ae3-876a-ebcaef2b2985",
   "metadata": {
    "tags": []
   },
   "outputs": [],
   "source": [
    "def explore_dataframe(dataframe, dataframe_name):\n",
    "    print(\"=== DataFrame Exploration: {} ===\".format(dataframe_name))\n",
    "    print(\"Number of Rows: {}\".format(dataframe.shape[0]))\n",
    "    print(\"Number of Columns: {}\".format(dataframe.shape[1]))\n",
    "    print(\"Column Names: {}\".format(\", \".join(dataframe.columns)))\n",
    "    print(\"\\nData Types of Columns:\")\n",
    "    print(dataframe.dtypes)\n",
    "    print(\"\\nNull Value Counts:\")\n",
    "    print(dataframe.isnull().sum())\n",
    "    print(\"\\nSummary Statistics:\")\n",
    "    print(dataframe.describe())\n",
    "    print(\"=== End of DataFrame Exploration: {} ===\\n\".format(dataframe_name))\n",
    "    \n",
    "#explore_dataframe(gwas, \"gwas\")\n",
    "#explore_dataframe(causal, \"causal\")\n",
    "#explore_dataframe(finemap, \"finemap\")"
   ]
  },
  {
   "cell_type": "markdown",
   "id": "c46b7243-adf9-42ac-9026-c5ac411159b6",
   "metadata": {
    "tags": []
   },
   "source": [
    "## Data manipulation"
   ]
  },
  {
   "cell_type": "markdown",
   "id": "e8573bef-1cda-4e57-b3fa-f2b40333620a",
   "metadata": {
    "tags": []
   },
   "source": [
    "### Adjust `chromosome` in `finemap`"
   ]
  },
  {
   "cell_type": "code",
   "execution_count": null,
   "id": "825d60e9-ce09-43d2-8b4d-e5f47a942e90",
   "metadata": {
    "tags": []
   },
   "outputs": [],
   "source": [
    "# Extract number from 'chromosome' and replace 'X' with '23'\n",
    "finemap['chromosome'] = finemap['chromosome'].str.extract('(\\d+|X)', expand=False).replace('X', '23')\n",
    "\n",
    "# Convert 'chromosome' column to 'int64'\n",
    "finemap['chromosome'] = finemap['chromosome'].astype('int64')\n",
    "\n",
    "# Assertions to verify the data manipulations\n",
    "assert finemap['chromosome'].dtype == 'int64'  \n",
    "assert finemap['chromosome'].isin(range(1, 24)).all()  "
   ]
  },
  {
   "cell_type": "markdown",
   "id": "337a14ab-c09e-42ae-b737-40f95d2080da",
   "metadata": {
    "tags": []
   },
   "source": [
    "### Adjust `v` in `finemap`"
   ]
  },
  {
   "cell_type": "code",
   "execution_count": null,
   "id": "a1c693d8-0ed6-4529-9c3c-3588f5034ce4",
   "metadata": {
    "tags": []
   },
   "outputs": [],
   "source": [
    "# Replace 'X' with '23' in 'v' column of finemap\n",
    "finemap['v'] = finemap['v'].str.replace(r'(^X:)', '23:', regex=True)\n",
    "\n",
    "# Assert 'X' is not in 'v' column anymore\n",
    "assert 'X' not in finemap['v']"
   ]
  },
  {
   "cell_type": "markdown",
   "id": "c30d6716-fce0-4ca7-9f2b-0070bda37dce",
   "metadata": {
    "tags": []
   },
   "source": [
    "### Create `finemapped` in `gwas`"
   ]
  },
  {
   "cell_type": "code",
   "execution_count": null,
   "id": "f90a6277-747b-4cc6-994c-06e772128d65",
   "metadata": {},
   "outputs": [],
   "source": [
    "# Create the 'id' column in the 'gwas' DataFrame\n",
    "gwas['id'] = gwas['#chrom'].astype(str) + ':' + gwas['pos'].astype(str) + ':' + gwas['ref'] + ':' + gwas['alt']\n",
    "\n",
    "# Create a set for faster lookup\n",
    "finemap_set = set(finemap['v'].values)\n",
    "\n",
    "# Use the set for lookup\n",
    "gwas['finemapped'] = gwas['id'].apply(lambda x: 1 if x in finemap_set else 0)\n",
    "\n",
    "# Count the number of 1s in the 'finemapped' column\n",
    "count_ones = gwas['finemapped'].sum()\n",
    "\n",
    "# Perform assertions to validate the results\n",
    "assert len(gwas) == len(gwas['id']) == len(gwas['finemapped']), \"Lengths do not match.\"\n",
    "assert count_ones <= len(gwas), \"Invalid count of 1s.\"\n",
    "\n",
    "print(\"Assertions passed successfully.\")"
   ]
  },
  {
   "cell_type": "markdown",
   "id": "9069885a-cfb2-42cd-8c72-c0f4ee5be92b",
   "metadata": {
    "tags": []
   },
   "source": [
    "### Create `causal` in `gwas`"
   ]
  },
  {
   "cell_type": "raw",
   "id": "8a91cac8-dcfd-4346-ac55-7445ccb81d68",
   "metadata": {},
   "source": [
    "causal_snp_set = set(causal['SNP'])\n",
    "\n",
    "gwas['causal'] = gwas['rsids'].apply(lambda x: 1 if x in causal_snp_set else 0)\n",
    "print(gwas['causal'].sum())"
   ]
  },
  {
   "cell_type": "markdown",
   "id": "b9a8a869-427d-4115-b8ee-5ae1933236dd",
   "metadata": {
    "tags": []
   },
   "source": [
    "### Create `precausal` in `gwas`"
   ]
  },
  {
   "cell_type": "raw",
   "id": "1f2c83a6-47bd-40a0-b1bb-b0a4168579a0",
   "metadata": {},
   "source": [
    "precausal_snp_set = set(precausal['SNP'])\n",
    "\n",
    "gwas['precausal'] = gwas['rsids'].apply(lambda x: 1 if x in precausal_snp_set else 0)\n",
    "print(gwas['precausal'].sum())"
   ]
  },
  {
   "cell_type": "markdown",
   "id": "d5e503e8-1146-47d2-a25c-0f57905d4994",
   "metadata": {
    "tags": []
   },
   "source": [
    "### Extract `trait` from `finemap` to `gwas`"
   ]
  },
  {
   "cell_type": "code",
   "execution_count": null,
   "id": "159fbc16-3d9c-4e80-b8dd-271a2088b20d",
   "metadata": {
    "tags": []
   },
   "outputs": [],
   "source": [
    "unique_trait = finemap['trait'].unique()\n",
    "trait_string = unique_trait[0]\n",
    "gwas['trait'] = trait_string"
   ]
  },
  {
   "cell_type": "markdown",
   "id": "8a4694be-acb8-4d22-9053-d985fe51fef6",
   "metadata": {
    "tags": []
   },
   "source": [
    "## Export csv"
   ]
  },
  {
   "cell_type": "code",
   "execution_count": null,
   "id": "5786ebd6-38d3-45ea-8b95-b953324e1dad",
   "metadata": {},
   "outputs": [],
   "source": [
    "print(gwas['finemapped'].sum())"
   ]
  },
  {
   "cell_type": "code",
   "execution_count": null,
   "id": "ca8ebd33-8d99-4a37-85f0-c707d04333b7",
   "metadata": {
    "tags": []
   },
   "outputs": [],
   "source": [
    "gwas.to_csv('gwas-hyptens.csv', index=False)"
   ]
  }
 ],
 "metadata": {
  "kernelspec": {
   "display_name": "Python 3 (ipykernel)",
   "language": "python",
   "name": "python3"
  },
  "language_info": {
   "codemirror_mode": {
    "name": "ipython",
    "version": 3
   },
   "file_extension": ".py",
   "mimetype": "text/x-python",
   "name": "python",
   "nbconvert_exporter": "python",
   "pygments_lexer": "ipython3",
   "version": "3.11.4"
  }
 },
 "nbformat": 4,
 "nbformat_minor": 5
}
