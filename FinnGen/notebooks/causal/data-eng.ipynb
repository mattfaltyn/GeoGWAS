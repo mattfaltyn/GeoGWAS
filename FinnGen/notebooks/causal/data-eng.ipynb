{
 "cells": [
  {
   "cell_type": "markdown",
   "id": "00910a35-ffbc-4497-bcc8-21f008c326fb",
   "metadata": {
    "tags": []
   },
   "source": [
    "# FinnGen - Data Engineering Notebook - Causal"
   ]
  },
  {
   "cell_type": "markdown",
   "id": "a6fd8be8-14cc-4d80-a944-76c5235c078b",
   "metadata": {
    "tags": []
   },
   "source": [
    "## Data Descriptions"
   ]
  },
  {
   "cell_type": "markdown",
   "id": "c1846d70-3c09-4b34-a05b-b72706e828fa",
   "metadata": {
    "tags": []
   },
   "source": [
    "### gwas"
   ]
  },
  {
   "cell_type": "markdown",
   "id": "8535f83a-6468-41bb-b3dc-6e678783c019",
   "metadata": {
    "jp-MarkdownHeadingCollapsed": true,
    "tags": []
   },
   "source": [
    "\n",
    "The `{endpoint}.gz` file has the following structure:\n",
    "\n",
    "| Column name   | Description                                                 |\n",
    "| ------------- | ----------------------------------------------------------- |\n",
    "| #chrom        | chromosome on build GRCh38 (1-23)                           |\n",
    "| pos           | position in base pairs on build GRCh38                       |\n",
    "| ref           | reference allele                                            |\n",
    "| alt           | alternative allele (effect allele)                           |\n",
    "| rsids         | variant identifier                                          |\n",
    "| nearest_genes | nearest gene(s) (comma separated) from variant               |\n",
    "| pval          | p-value from [source]                                        |\n",
    "| mlogp         | -log10(p-value)                                             |\n",
    "| beta          | effect size (log(OR) scale) estimated with [source]          |\n",
    "| sebeta        | standard error of effect size estimated with [source]        |\n",
    "| af_alt        | alternative (effect) allele frequency                        |\n",
    "| af_alt_cases  | alternative (effect) allele frequency among cases            |\n",
    "| af_alt_controls | alternative (effect) allele frequency among controls         |\n"
   ]
  },
  {
   "cell_type": "markdown",
   "id": "7a7cea15-a49b-4ee2-87a5-bf625453328e",
   "metadata": {
    "tags": []
   },
   "source": [
    "### finemap"
   ]
  },
  {
   "cell_type": "markdown",
   "id": "10f3aafa-e866-463a-8cd1-a7416b1ff129",
   "metadata": {},
   "source": [
    "{endpoint}.SUSIE.snp.bgz` contains variant summaries with credible set information and has the following structure:\n",
    "\n",
    "| Column name    | Description                                                        |\n",
    "| -------------- | ------------------------------------------------------------------ |\n",
    "| trait          | endpoint name                                                      |\n",
    "| region         | chr:start-end                                                      |\n",
    "| v              | variant identifier                                                 |\n",
    "| rsid           | rs variant identifier                                              |\n",
    "| chromosome     | chromosome on build GRCh38 (1-22, X)                                |\n",
    "| position       | position in base pairs on build GRCh38                              |\n",
    "| allele1        | reference allele                                                   |\n",
    "| allele2        | alternative allele (effect allele)                                  |\n",
    "| maf            | minor allele frequency                                             |\n",
    "| beta           | effect size GWAS                                                   |\n",
    "| se             | standard error GWAS                                                |\n",
    "| p              | p-value GWAS                                                       |\n",
    "| mean           | posterior expectation of true effect size                           |\n",
    "| sd             | posterior standard deviation of true effect size                   |\n",
    "| prob           | posterior probability of association                                |\n",
    "| cs             | identifier of 95% credible set (-1 = variant is not part of credible set) |\n",
    "| lead_r2        | r2 value to a lead variant (the one with maximum PIP) in a credible set |\n",
    "| alphax         | posterior inclusion probability for the x-th single effect (x := 1..L where L is the number of single effects (causal variants) specified; default: L = 10) |"
   ]
  },
  {
   "cell_type": "markdown",
   "id": "018acd43-12a7-41be-bf26-fc1d03dd7ef7",
   "metadata": {
    "tags": []
   },
   "source": [
    "## Libraries"
   ]
  },
  {
   "cell_type": "code",
   "execution_count": 1,
   "id": "483d7bbb-33ef-4893-b03c-6173b7253544",
   "metadata": {
    "tags": []
   },
   "outputs": [
    {
     "name": "stdout",
     "output_type": "stream",
     "text": [
      "Python version: 3.11.5 (tags/v3.11.5:cce6ba9, Aug 24 2023, 14:38:34) [MSC v.1936 64 bit (AMD64)]\n",
      "Pandas version: 2.1.0\n",
      "NumPy version: 1.24.1\n"
     ]
    }
   ],
   "source": [
    "import sys\n",
    "import pandas as pd\n",
    "import numpy as np\n",
    "import requests\n",
    "import time\n",
    "from concurrent.futures import ThreadPoolExecutor\n",
    "\n",
    "\n",
    "\n",
    "print(\"Python version:\", sys.version)\n",
    "print(\"Pandas version:\", pd.__version__)\n",
    "print(\"NumPy version:\", np.__version__)"
   ]
  },
  {
   "cell_type": "markdown",
   "id": "445033a6-7000-4fb6-9c4d-cfe03f570b1c",
   "metadata": {
    "tags": []
   },
   "source": [
    "## Import data"
   ]
  },
  {
   "cell_type": "code",
   "execution_count": 2,
   "id": "f1c04950-d2ca-4421-be63-297d26fc3096",
   "metadata": {},
   "outputs": [
    {
     "name": "stdout",
     "output_type": "stream",
     "text": [
      "C:\\Users\\Windows\\Desktop\\Research\\PhD\\GeoGWAS\\FinnGen\\notebooks\\causal\n"
     ]
    }
   ],
   "source": [
    "import os\n",
    "\n",
    "# Get the current working directory\n",
    "current_directory = os.getcwd()\n",
    "\n",
    "print(current_directory)"
   ]
  },
  {
   "cell_type": "code",
   "execution_count": 3,
   "id": "d4345459-b1ef-477c-8f06-c8f54c194af0",
   "metadata": {
    "tags": []
   },
   "outputs": [],
   "source": [
    "# Read the 'finemap' file into a pandas DataFrame\n",
    "finemap = pd.read_csv('C:/Users/Windows/Desktop/Research/PhD/GeoGWAS/FinnGen/data/finemapping_full_finngen_R9_I9_HYPTENS.SUSIE.snp.txt', low_memory=False, sep='\\t')\n",
    "\n",
    "\n",
    "# Read the 'causal' file into a pandas DataFrame\n",
    "causal = pd.read_csv('C:/Users/Windows/Desktop/Research/PhD/GeoGWAS/FinnGen/data/causal-hyp.tsv', low_memory=False, sep='\\t')\n",
    "\n",
    "\n",
    "# Read the 'gwas' file into a pandas DataFrame\n",
    "gwas = pd.read_csv('C:/Users/Windows/Desktop/Research/PhD/GeoGWAS/FinnGen/data/summary_stats_finngen_R9_I9_HYPTENS.tsv', low_memory=False, sep='\\t')"
   ]
  },
  {
   "cell_type": "code",
   "execution_count": 4,
   "id": "ffc11568-26b1-4283-b6b6-e1fd478f29e2",
   "metadata": {
    "tags": []
   },
   "outputs": [
    {
     "name": "stdout",
     "output_type": "stream",
     "text": [
      "NaNs and missing values in 'gwas':\n",
      "#chrom                   0\n",
      "pos                      0\n",
      "ref                      0\n",
      "alt                      0\n",
      "rsids              1366441\n",
      "nearest_genes       727861\n",
      "pval                     0\n",
      "mlogp                    0\n",
      "beta                     0\n",
      "sebeta                   0\n",
      "af_alt                   0\n",
      "af_alt_cases             0\n",
      "af_alt_controls          0\n",
      "dtype: int64\n"
     ]
    }
   ],
   "source": [
    "print(\"NaNs and missing values in 'gwas':\")\n",
    "empty = gwas.isna().sum()\n",
    "print(empty)"
   ]
  },
  {
   "cell_type": "markdown",
   "id": "3610b12e-d085-49a4-91e8-273fcb9dad32",
   "metadata": {
    "tags": []
   },
   "source": [
    "## Explore data"
   ]
  },
  {
   "cell_type": "code",
   "execution_count": 5,
   "id": "e3742572-cf8b-48a5-a540-4b99d41324b1",
   "metadata": {
    "tags": []
   },
   "outputs": [
    {
     "name": "stdout",
     "output_type": "stream",
     "text": [
      "<class 'pandas.core.frame.DataFrame'>\n",
      "RangeIndex: 20170234 entries, 0 to 20170233\n",
      "Data columns (total 13 columns):\n",
      " #   Column           Dtype  \n",
      "---  ------           -----  \n",
      " 0   #chrom           int64  \n",
      " 1   pos              int64  \n",
      " 2   ref              object \n",
      " 3   alt              object \n",
      " 4   rsids            object \n",
      " 5   nearest_genes    object \n",
      " 6   pval             float64\n",
      " 7   mlogp            float64\n",
      " 8   beta             float64\n",
      " 9   sebeta           float64\n",
      " 10  af_alt           float64\n",
      " 11  af_alt_cases     float64\n",
      " 12  af_alt_controls  float64\n",
      "dtypes: float64(7), int64(2), object(4)\n",
      "memory usage: 2.0+ GB\n"
     ]
    }
   ],
   "source": [
    "gwas.info()"
   ]
  },
  {
   "cell_type": "code",
   "execution_count": 6,
   "id": "dc659323-8943-4e41-9f41-5cd0c8e2c17e",
   "metadata": {
    "tags": []
   },
   "outputs": [
    {
     "name": "stdout",
     "output_type": "stream",
     "text": [
      "<class 'pandas.core.frame.DataFrame'>\n",
      "RangeIndex: 3501815 entries, 0 to 3501814\n",
      "Data columns (total 66 columns):\n",
      " #   Column               Dtype  \n",
      "---  ------               -----  \n",
      " 0   trait                object \n",
      " 1   region               object \n",
      " 2   v                    object \n",
      " 3   rsid                 object \n",
      " 4   chromosome           object \n",
      " 5   position             int64  \n",
      " 6   allele1              object \n",
      " 7   allele2              object \n",
      " 8   maf                  float64\n",
      " 9   beta                 float64\n",
      " 10  se                   float64\n",
      " 11  p                    float64\n",
      " 12  mean                 float64\n",
      " 13  sd                   float64\n",
      " 14  prob                 float64\n",
      " 15  cs                   int64  \n",
      " 16  cs_specific_prob     float64\n",
      " 17  low_purity           float64\n",
      " 18  lead_r2              float64\n",
      " 19  mean_99              float64\n",
      " 20  sd_99                float64\n",
      " 21  prob_99              float64\n",
      " 22  cs_99                int64  \n",
      " 23  cs_specific_prob_99  float64\n",
      " 24  low_purity_99        float64\n",
      " 25  lead_r2_99           float64\n",
      " 26  alpha1               float64\n",
      " 27  alpha2               float64\n",
      " 28  alpha3               float64\n",
      " 29  alpha4               float64\n",
      " 30  alpha5               float64\n",
      " 31  alpha6               float64\n",
      " 32  alpha7               float64\n",
      " 33  alpha8               float64\n",
      " 34  alpha9               float64\n",
      " 35  alpha10              float64\n",
      " 36  mean1                float64\n",
      " 37  mean2                float64\n",
      " 38  mean3                float64\n",
      " 39  mean4                float64\n",
      " 40  mean5                float64\n",
      " 41  mean6                float64\n",
      " 42  mean7                float64\n",
      " 43  mean8                float64\n",
      " 44  mean9                float64\n",
      " 45  mean10               float64\n",
      " 46  sd1                  float64\n",
      " 47  sd2                  float64\n",
      " 48  sd3                  float64\n",
      " 49  sd4                  float64\n",
      " 50  sd5                  float64\n",
      " 51  sd6                  float64\n",
      " 52  sd7                  float64\n",
      " 53  sd8                  float64\n",
      " 54  sd9                  float64\n",
      " 55  sd10                 float64\n",
      " 56  lbf_variable1        float64\n",
      " 57  lbf_variable2        float64\n",
      " 58  lbf_variable3        float64\n",
      " 59  lbf_variable4        float64\n",
      " 60  lbf_variable5        float64\n",
      " 61  lbf_variable6        float64\n",
      " 62  lbf_variable7        float64\n",
      " 63  lbf_variable8        float64\n",
      " 64  lbf_variable9        float64\n",
      " 65  lbf_variable10       float64\n",
      "dtypes: float64(56), int64(3), object(7)\n",
      "memory usage: 1.7+ GB\n"
     ]
    }
   ],
   "source": [
    "finemap.info()"
   ]
  },
  {
   "cell_type": "code",
   "execution_count": 7,
   "id": "8c5681a2-85f4-4fd3-a3b9-de8824651d5c",
   "metadata": {
    "tags": []
   },
   "outputs": [
    {
     "name": "stdout",
     "output_type": "stream",
     "text": [
      "<class 'pandas.core.frame.DataFrame'>\n",
      "RangeIndex: 49 entries, 0 to 48\n",
      "Data columns (total 31 columns):\n",
      " #   Column                                    Non-Null Count  Dtype  \n",
      "---  ------                                    --------------  -----  \n",
      " 0   association_info.ancestry                 49 non-null     object \n",
      " 1   association_info.doi                      11 non-null     object \n",
      " 2   association_info.gwas_catalog_id          12 non-null     object \n",
      " 3   association_info.neg_log_pval             49 non-null     float64\n",
      " 4   association_info.otg_id                   49 non-null     object \n",
      " 5   association_info.pubmed_id                12 non-null     float64\n",
      " 6   association_info.url                      26 non-null     object \n",
      " 7   gold_standard_info.evidence.class         49 non-null     object \n",
      " 8   gold_standard_info.evidence.confidence    49 non-null     object \n",
      " 9   gold_standard_info.evidence.curated_by    49 non-null     object \n",
      " 10  gold_standard_info.evidence.description   49 non-null     object \n",
      " 11  gold_standard_info.evidence.pubmed_id     0 non-null      float64\n",
      " 12  gold_standard_info.evidence.source        49 non-null     object \n",
      " 13  gold_standard_info.gene_id                49 non-null     object \n",
      " 14  gold_standard_info.highest_confidence     49 non-null     object \n",
      " 15  metadata.comments                         49 non-null     object \n",
      " 16  metadata.date_added                       49 non-null     object \n",
      " 17  metadata.reviewed_by                      49 non-null     object \n",
      " 18  metadata.set_label                        49 non-null     object \n",
      " 19  metadata.submitted_by                     49 non-null     object \n",
      " 20  metadata.tags                             49 non-null     object \n",
      " 21  sentinel_variant.alleles.alternative      49 non-null     object \n",
      " 22  sentinel_variant.alleles.reference        49 non-null     object \n",
      " 23  sentinel_variant.locus_GRCh37.chromosome  49 non-null     int64  \n",
      " 24  sentinel_variant.locus_GRCh37.position    49 non-null     int64  \n",
      " 25  sentinel_variant.locus_GRCh38.chromosome  49 non-null     int64  \n",
      " 26  sentinel_variant.locus_GRCh38.position    49 non-null     int64  \n",
      " 27  sentinel_variant.rsid                     0 non-null      float64\n",
      " 28  trait_info.ontology                       49 non-null     object \n",
      " 29  trait_info.reported_trait_name            49 non-null     object \n",
      " 30  trait_info.standard_trait_name            49 non-null     object \n",
      "dtypes: float64(4), int64(4), object(23)\n",
      "memory usage: 12.0+ KB\n"
     ]
    }
   ],
   "source": [
    "causal.info()"
   ]
  },
  {
   "cell_type": "markdown",
   "id": "c46b7243-adf9-42ac-9026-c5ac411159b6",
   "metadata": {
    "tags": []
   },
   "source": [
    "## Data manipulation"
   ]
  },
  {
   "cell_type": "markdown",
   "id": "bd45c268-cf70-432b-9050-05da69d3849c",
   "metadata": {
    "tags": []
   },
   "source": [
    "### Drop `cs_99=-1` in `finemap`"
   ]
  },
  {
   "cell_type": "code",
   "execution_count": 8,
   "id": "0d345396-3d17-4543-9e84-7bd60f237e10",
   "metadata": {},
   "outputs": [],
   "source": [
    "finemap = finemap[finemap['cs_99'] != -1]"
   ]
  },
  {
   "cell_type": "markdown",
   "id": "e8573bef-1cda-4e57-b3fa-f2b40333620a",
   "metadata": {
    "tags": []
   },
   "source": [
    "### Print `nunique` in `finemap['cs_99']` across chroms"
   ]
  },
  {
   "cell_type": "code",
   "execution_count": 9,
   "id": "a527b3a8-8e2b-4d31-b4db-8ae8b9b42b62",
   "metadata": {},
   "outputs": [
    {
     "name": "stdout",
     "output_type": "stream",
     "text": [
      "chr1: [1 2 3]\n",
      "chr10: [1 2 4 3]\n",
      "chr11: [3 1 2]\n",
      "chr12: [1 2 4 3]\n",
      "chr13: [1]\n",
      "chr14: [1]\n",
      "chr15: [1 2 3]\n",
      "chr16: [2 1 4]\n",
      "chr17: [4 2 1 3 6 5]\n",
      "chr18: [1 2 7]\n",
      "chr19: [1 3 2 4 6 5 8]\n",
      "chr2: [2 1 4 5 3]\n",
      "chr20: [1 3 2 4 5]\n",
      "chr21: [1 3]\n",
      "chr22: [1 2]\n",
      "chr3: [1 2 9 3]\n",
      "chr4: [1 4 2 3]\n",
      "chr5: [1 2 3]\n",
      "chr6: [1 2]\n",
      "chr7: [2 1 3 8]\n",
      "chr8: [1]\n",
      "chr9: [1 2]\n",
      "chrX: [1]\n"
     ]
    }
   ],
   "source": [
    "# Get unique values of cs_99 for each chromosome\n",
    "pd.set_option('display.max_rows', None)\n",
    "unique_values = finemap.groupby('chromosome')['cs_99'].unique()\n",
    "\n",
    "# Print the unique values\n",
    "for chrom, values in unique_values.items():\n",
    "    print(f\"{chrom}: {values}\")"
   ]
  },
  {
   "cell_type": "code",
   "execution_count": 10,
   "id": "faf96d93-41e2-4e6e-90f9-c93ee2245fce",
   "metadata": {},
   "outputs": [
    {
     "name": "stdout",
     "output_type": "stream",
     "text": [
      "chromosome  cs_99\n",
      "chr1        3        18445\n",
      "            1         4187\n",
      "            2          687\n",
      "chr10       2         6928\n",
      "            4         3812\n",
      "            1          268\n",
      "            3           54\n",
      "chr11       3         2364\n",
      "            1         2040\n",
      "            2          373\n",
      "chr12       4        20491\n",
      "            3         3099\n",
      "            1          106\n",
      "            2           99\n",
      "chr13       1          106\n",
      "chr14       1          163\n",
      "chr15       1          228\n",
      "            2          176\n",
      "            3           23\n",
      "chr16       4        17727\n",
      "            2          303\n",
      "            1          255\n",
      "chr17       2         7592\n",
      "            4          306\n",
      "            6          222\n",
      "            3          182\n",
      "            1           42\n",
      "            5            7\n",
      "chr18       7        20674\n",
      "            1           63\n",
      "            2           22\n",
      "chr19       3        23989\n",
      "            8        19346\n",
      "            1           92\n",
      "            6           65\n",
      "            2           54\n",
      "            4           20\n",
      "            5            2\n",
      "chr2        1          590\n",
      "            2          463\n",
      "            3           69\n",
      "            5           37\n",
      "            4           12\n",
      "chr20       3        10523\n",
      "            2         1295\n",
      "            1          766\n",
      "            4           13\n",
      "            5            9\n",
      "chr21       3          139\n",
      "            1           36\n",
      "chr22       2          271\n",
      "            1          206\n",
      "chr3        9        18889\n",
      "            2        12146\n",
      "            1          748\n",
      "            3          118\n",
      "chr4        4        12296\n",
      "            2          551\n",
      "            1          411\n",
      "            3           46\n",
      "chr5        2        28238\n",
      "            1          917\n",
      "            3          713\n",
      "chr6        1          624\n",
      "            2           66\n",
      "chr7        8        16471\n",
      "            1          949\n",
      "            3           79\n",
      "            2           69\n",
      "chr8        1          951\n",
      "chr9        1         2238\n",
      "            2           17\n",
      "chrX        1          244\n",
      "Name: count, dtype: int64\n"
     ]
    }
   ],
   "source": [
    "# Get frequency of values of cs_99 for each chromosome\n",
    "value_frequencies = finemap.groupby('chromosome')['cs_99'].value_counts()\n",
    "\n",
    "\n",
    "# Print the frequency values\n",
    "print(value_frequencies)\n",
    "pd.reset_option('display.max_rows')\n"
   ]
  },
  {
   "cell_type": "markdown",
   "id": "c26be1a1-0692-42d7-a819-03ae781c0f6a",
   "metadata": {
    "tags": []
   },
   "source": [
    "### Adjust `chromosome` in `finemap`"
   ]
  },
  {
   "cell_type": "code",
   "execution_count": 11,
   "id": "825d60e9-ce09-43d2-8b4d-e5f47a942e90",
   "metadata": {
    "tags": []
   },
   "outputs": [],
   "source": [
    "# Extract number from 'chromosome' and replace 'X' with '23'\n",
    "finemap['chromosome'] = finemap['chromosome'].str.extract('(\\d+|X)', expand=False).replace('X', '23')\n",
    "\n",
    "# Convert 'chromosome' column to 'int64'\n",
    "finemap['chromosome'] = finemap['chromosome'].astype('int64')\n",
    "\n",
    "# Assertions to verify the data manipulations\n",
    "assert finemap['chromosome'].dtype == 'int64'  \n",
    "assert finemap['chromosome'].isin(range(1, 24)).all()  "
   ]
  },
  {
   "cell_type": "markdown",
   "id": "337a14ab-c09e-42ae-b737-40f95d2080da",
   "metadata": {
    "tags": []
   },
   "source": [
    "### Adjust `v` in `finemap`"
   ]
  },
  {
   "cell_type": "code",
   "execution_count": 12,
   "id": "a1c693d8-0ed6-4529-9c3c-3588f5034ce4",
   "metadata": {
    "tags": []
   },
   "outputs": [],
   "source": [
    "# Replace 'X' with '23' in 'v' column of finemap\n",
    "finemap['v'] = finemap['v'].str.replace(r'(^X:)', '23:', regex=True)\n",
    "\n",
    "# Assert 'X' is not in 'v' column anymore\n",
    "assert 'X' not in finemap['v']"
   ]
  },
  {
   "cell_type": "markdown",
   "id": "86c2ba35-a580-414f-8f8e-2dea89702b0e",
   "metadata": {
    "jp-MarkdownHeadingCollapsed": true,
    "tags": []
   },
   "source": [
    "### Credible Set Analysis for `finemap`"
   ]
  },
  {
   "cell_type": "markdown",
   "id": "257dc7fe-b42b-4915-9186-dd85c4d516bb",
   "metadata": {
    "jp-MarkdownHeadingCollapsed": true,
    "tags": []
   },
   "source": [
    "#### lead_r2 selection"
   ]
  },
  {
   "cell_type": "raw",
   "id": "a2300f50-e47b-479a-ac99-c03dffd73770",
   "metadata": {},
   "source": [
    "# Identify lead variants with the highest PIP\n",
    "lead_variants = finemap.loc[finemap.groupby('cs')['prob'].idxmax()]\n",
    "\n",
    "# Study their correlation with other SNPs in the credible set using lead_r2 values\n",
    "lead_r2_analysis = finemap[finemap['cs'].isin(lead_variants['cs']) & (finemap['lead_r2'] > 0.95)]"
   ]
  },
  {
   "cell_type": "raw",
   "id": "6c813806-3d1d-4dcf-801f-b369658ef99c",
   "metadata": {},
   "source": [
    "import pandas as pd\n",
    "import seaborn as sns\n",
    "import matplotlib.pyplot as plt\n",
    "\n",
    "# Assuming finemap is a pandas DataFrame that has been loaded with your data\n",
    "# lead_variants = finemap.loc[finemap.groupby('cs')['prob'].idxmax()]\n",
    "\n",
    "# Define a list of lead_r2 values to loop through\n",
    "lead_r2_values = [0.5, 0.6, 0.7, 0.8, 0.85, 0.9, 0.95, 0.99]\n",
    "\n",
    "# Create an empty list to store the results\n",
    "data = []\n",
    "\n",
    "# Loop through the lead_r2 values and append the number of SNPs identified at each threshold to the data list\n",
    "for lead_r2_value in lead_r2_values:\n",
    "    lead_r2_analysis = finemap[(finemap['cs'].isin(lead_variants['cs'])) & (finemap['lead_r2'] > lead_r2_value)]\n",
    "    data.append({'lead_r2_threshold': lead_r2_value, 'number_of_snps': len(lead_r2_analysis)})\n",
    "\n",
    "# Create a pandas DataFrame from the data list\n",
    "data_df = pd.DataFrame(data)\n",
    "\n",
    "# Plot the data using seaborn\n",
    "sns.set(style=\"whitegrid\")\n",
    "plt.figure(figsize=(8, 6))\n",
    "sns.lineplot(x='lead_r2_threshold', y='number_of_snps', data=data_df, marker='o')\n",
    "\n",
    "# Adding titles and labels\n",
    "plt.title('Number of SNPs Identified at Different lead_r2 Thresholds')\n",
    "plt.xlabel('lead_r2 Threshold')\n",
    "plt.ylabel('Number of SNPs Identified')\n",
    "\n",
    "# Display the plot\n",
    "plt.show()\n"
   ]
  },
  {
   "cell_type": "markdown",
   "id": "38ab3ccc-21e3-4fbe-9761-fe6eca96bbab",
   "metadata": {
    "jp-MarkdownHeadingCollapsed": true,
    "tags": []
   },
   "source": [
    "#### PIP > 0.5"
   ]
  },
  {
   "cell_type": "raw",
   "id": "b7ae2b25-8af8-4629-9d6f-2242a64a5e38",
   "metadata": {},
   "source": [
    "# Add a new column pip_50 with 1 if prob > 50, otherwise 0\n",
    "finemap['pip_50'] = (finemap['prob'] > 0.5).astype(int)"
   ]
  },
  {
   "cell_type": "markdown",
   "id": "c30d6716-fce0-4ca7-9f2b-0070bda37dce",
   "metadata": {
    "tags": []
   },
   "source": [
    "### Create `finemapped` in `gwas`"
   ]
  },
  {
   "cell_type": "code",
   "execution_count": 13,
   "id": "f90a6277-747b-4cc6-994c-06e772128d65",
   "metadata": {},
   "outputs": [
    {
     "name": "stdout",
     "output_type": "stream",
     "text": [
      "Assertions passed successfully.\n"
     ]
    }
   ],
   "source": [
    "# Create the 'id' column in the 'gwas' DataFrame\n",
    "gwas['id'] = gwas['#chrom'].astype(str) + ':' + gwas['pos'].astype(str) + ':' + gwas['ref'] + ':' + gwas['alt']\n",
    "\n",
    "# Create the 'id' column in the 'finemap' DataFrame\n",
    "finemap['id'] = finemap['v']\n",
    "\n",
    "# Create a set for faster lookup\n",
    "finemap_set = set(finemap['id'].values)\n",
    "\n",
    "# Use the set for lookup\n",
    "gwas['finemapped'] = gwas['id'].apply(lambda x: 1 if x in finemap_set else 0)\n",
    "\n",
    "# Count the number of 1s in the 'finemapped' column\n",
    "count_ones = gwas['finemapped'].sum()\n",
    "\n",
    "# Perform assertions to validate the results\n",
    "assert len(gwas) == len(gwas['id']) == len(gwas['finemapped']), \"Lengths do not match.\"\n",
    "assert count_ones <= len(gwas), \"Invalid count of 1s.\"\n",
    "\n",
    "print(\"Assertions passed successfully.\")"
   ]
  },
  {
   "cell_type": "markdown",
   "id": "faaaa9cf-9b7e-4b57-93b2-3cdf9d7eaa0f",
   "metadata": {
    "tags": []
   },
   "source": [
    "### From `finemap`, add `prob`, `lead_r2`, and `cs_99` to gwas"
   ]
  },
  {
   "cell_type": "code",
   "execution_count": 14,
   "id": "cda74f53-a6b0-4436-818c-80829ef95038",
   "metadata": {},
   "outputs": [],
   "source": [
    "# Use merge to add 'prob', 'lead_r2', and 'cs_99' columns from 'finemap' to 'gwas'\n",
    "gwas = gwas.merge(finemap[['id', 'prob', 'lead_r2', 'cs_99']], on='id', how='left')\n",
    "\n",
    "# Fill NA values for rows in 'gwas' that didn't have a matching 'id' in 'finemap'\n",
    "gwas[['prob', 'lead_r2', 'cs_99']] = gwas[['prob', 'lead_r2', 'cs_99']].fillna(value=0)"
   ]
  },
  {
   "cell_type": "code",
   "execution_count": 15,
   "id": "fe6f8669-116b-41ba-8b84-e16baba96f4e",
   "metadata": {},
   "outputs": [
    {
     "data": {
      "text/html": [
       "<div>\n",
       "<style scoped>\n",
       "    .dataframe tbody tr th:only-of-type {\n",
       "        vertical-align: middle;\n",
       "    }\n",
       "\n",
       "    .dataframe tbody tr th {\n",
       "        vertical-align: top;\n",
       "    }\n",
       "\n",
       "    .dataframe thead th {\n",
       "        text-align: right;\n",
       "    }\n",
       "</style>\n",
       "<table border=\"1\" class=\"dataframe\">\n",
       "  <thead>\n",
       "    <tr style=\"text-align: right;\">\n",
       "      <th></th>\n",
       "      <th>#chrom</th>\n",
       "      <th>pos</th>\n",
       "      <th>ref</th>\n",
       "      <th>alt</th>\n",
       "      <th>rsids</th>\n",
       "      <th>nearest_genes</th>\n",
       "      <th>pval</th>\n",
       "      <th>mlogp</th>\n",
       "      <th>beta</th>\n",
       "      <th>sebeta</th>\n",
       "      <th>af_alt</th>\n",
       "      <th>af_alt_cases</th>\n",
       "      <th>af_alt_controls</th>\n",
       "      <th>id</th>\n",
       "      <th>finemapped</th>\n",
       "      <th>prob</th>\n",
       "      <th>lead_r2</th>\n",
       "      <th>cs_99</th>\n",
       "    </tr>\n",
       "  </thead>\n",
       "  <tbody>\n",
       "    <tr>\n",
       "      <th>0</th>\n",
       "      <td>1</td>\n",
       "      <td>13668</td>\n",
       "      <td>G</td>\n",
       "      <td>A</td>\n",
       "      <td>rs2691328</td>\n",
       "      <td>OR4F5</td>\n",
       "      <td>0.106658</td>\n",
       "      <td>0.972006</td>\n",
       "      <td>-0.114822</td>\n",
       "      <td>0.071168</td>\n",
       "      <td>0.005846</td>\n",
       "      <td>0.005683</td>\n",
       "      <td>0.005914</td>\n",
       "      <td>1:13668:G:A</td>\n",
       "      <td>0</td>\n",
       "      <td>0.0</td>\n",
       "      <td>0.0</td>\n",
       "      <td>0.0</td>\n",
       "    </tr>\n",
       "    <tr>\n",
       "      <th>1</th>\n",
       "      <td>1</td>\n",
       "      <td>14773</td>\n",
       "      <td>C</td>\n",
       "      <td>T</td>\n",
       "      <td>rs878915777</td>\n",
       "      <td>OR4F5</td>\n",
       "      <td>0.620115</td>\n",
       "      <td>0.207528</td>\n",
       "      <td>-0.021548</td>\n",
       "      <td>0.043470</td>\n",
       "      <td>0.013501</td>\n",
       "      <td>0.013448</td>\n",
       "      <td>0.013524</td>\n",
       "      <td>1:14773:C:T</td>\n",
       "      <td>0</td>\n",
       "      <td>0.0</td>\n",
       "      <td>0.0</td>\n",
       "      <td>0.0</td>\n",
       "    </tr>\n",
       "    <tr>\n",
       "      <th>2</th>\n",
       "      <td>1</td>\n",
       "      <td>15585</td>\n",
       "      <td>G</td>\n",
       "      <td>A</td>\n",
       "      <td>rs533630043</td>\n",
       "      <td>OR4F5</td>\n",
       "      <td>0.859628</td>\n",
       "      <td>0.065689</td>\n",
       "      <td>-0.023716</td>\n",
       "      <td>0.134105</td>\n",
       "      <td>0.001112</td>\n",
       "      <td>0.001117</td>\n",
       "      <td>0.001109</td>\n",
       "      <td>1:15585:G:A</td>\n",
       "      <td>0</td>\n",
       "      <td>0.0</td>\n",
       "      <td>0.0</td>\n",
       "      <td>0.0</td>\n",
       "    </tr>\n",
       "    <tr>\n",
       "      <th>3</th>\n",
       "      <td>1</td>\n",
       "      <td>16549</td>\n",
       "      <td>T</td>\n",
       "      <td>C</td>\n",
       "      <td>rs1262014613</td>\n",
       "      <td>OR4F5</td>\n",
       "      <td>0.321844</td>\n",
       "      <td>0.492355</td>\n",
       "      <td>-0.215787</td>\n",
       "      <td>0.217818</td>\n",
       "      <td>0.000563</td>\n",
       "      <td>0.000556</td>\n",
       "      <td>0.000566</td>\n",
       "      <td>1:16549:T:C</td>\n",
       "      <td>0</td>\n",
       "      <td>0.0</td>\n",
       "      <td>0.0</td>\n",
       "      <td>0.0</td>\n",
       "    </tr>\n",
       "    <tr>\n",
       "      <th>4</th>\n",
       "      <td>1</td>\n",
       "      <td>16567</td>\n",
       "      <td>G</td>\n",
       "      <td>C</td>\n",
       "      <td>rs1194064194</td>\n",
       "      <td>OR4F5</td>\n",
       "      <td>0.764225</td>\n",
       "      <td>0.116779</td>\n",
       "      <td>0.021523</td>\n",
       "      <td>0.071757</td>\n",
       "      <td>0.004192</td>\n",
       "      <td>0.004207</td>\n",
       "      <td>0.004186</td>\n",
       "      <td>1:16567:G:C</td>\n",
       "      <td>0</td>\n",
       "      <td>0.0</td>\n",
       "      <td>0.0</td>\n",
       "      <td>0.0</td>\n",
       "    </tr>\n",
       "    <tr>\n",
       "      <th>...</th>\n",
       "      <td>...</td>\n",
       "      <td>...</td>\n",
       "      <td>...</td>\n",
       "      <td>...</td>\n",
       "      <td>...</td>\n",
       "      <td>...</td>\n",
       "      <td>...</td>\n",
       "      <td>...</td>\n",
       "      <td>...</td>\n",
       "      <td>...</td>\n",
       "      <td>...</td>\n",
       "      <td>...</td>\n",
       "      <td>...</td>\n",
       "      <td>...</td>\n",
       "      <td>...</td>\n",
       "      <td>...</td>\n",
       "      <td>...</td>\n",
       "      <td>...</td>\n",
       "    </tr>\n",
       "    <tr>\n",
       "      <th>20170229</th>\n",
       "      <td>23</td>\n",
       "      <td>155697920</td>\n",
       "      <td>G</td>\n",
       "      <td>A</td>\n",
       "      <td>NaN</td>\n",
       "      <td>NaN</td>\n",
       "      <td>0.435606</td>\n",
       "      <td>0.360906</td>\n",
       "      <td>0.004066</td>\n",
       "      <td>0.005215</td>\n",
       "      <td>0.291210</td>\n",
       "      <td>0.291159</td>\n",
       "      <td>0.291231</td>\n",
       "      <td>23:155697920:G:A</td>\n",
       "      <td>0</td>\n",
       "      <td>0.0</td>\n",
       "      <td>0.0</td>\n",
       "      <td>0.0</td>\n",
       "    </tr>\n",
       "    <tr>\n",
       "      <th>20170230</th>\n",
       "      <td>23</td>\n",
       "      <td>155698443</td>\n",
       "      <td>C</td>\n",
       "      <td>A</td>\n",
       "      <td>NaN</td>\n",
       "      <td>NaN</td>\n",
       "      <td>0.559723</td>\n",
       "      <td>0.252027</td>\n",
       "      <td>0.025926</td>\n",
       "      <td>0.044450</td>\n",
       "      <td>0.003263</td>\n",
       "      <td>0.003298</td>\n",
       "      <td>0.003248</td>\n",
       "      <td>23:155698443:C:A</td>\n",
       "      <td>0</td>\n",
       "      <td>0.0</td>\n",
       "      <td>0.0</td>\n",
       "      <td>0.0</td>\n",
       "    </tr>\n",
       "    <tr>\n",
       "      <th>20170231</th>\n",
       "      <td>23</td>\n",
       "      <td>155698490</td>\n",
       "      <td>C</td>\n",
       "      <td>T</td>\n",
       "      <td>NaN</td>\n",
       "      <td>NaN</td>\n",
       "      <td>0.007623</td>\n",
       "      <td>2.117900</td>\n",
       "      <td>-0.043135</td>\n",
       "      <td>0.016165</td>\n",
       "      <td>0.024340</td>\n",
       "      <td>0.023984</td>\n",
       "      <td>0.024489</td>\n",
       "      <td>23:155698490:C:T</td>\n",
       "      <td>0</td>\n",
       "      <td>0.0</td>\n",
       "      <td>0.0</td>\n",
       "      <td>0.0</td>\n",
       "    </tr>\n",
       "    <tr>\n",
       "      <th>20170232</th>\n",
       "      <td>23</td>\n",
       "      <td>155699751</td>\n",
       "      <td>C</td>\n",
       "      <td>T</td>\n",
       "      <td>NaN</td>\n",
       "      <td>NaN</td>\n",
       "      <td>0.160090</td>\n",
       "      <td>0.795637</td>\n",
       "      <td>0.007715</td>\n",
       "      <td>0.005492</td>\n",
       "      <td>0.245151</td>\n",
       "      <td>0.245738</td>\n",
       "      <td>0.244904</td>\n",
       "      <td>23:155699751:C:T</td>\n",
       "      <td>0</td>\n",
       "      <td>0.0</td>\n",
       "      <td>0.0</td>\n",
       "      <td>0.0</td>\n",
       "    </tr>\n",
       "    <tr>\n",
       "      <th>20170233</th>\n",
       "      <td>23</td>\n",
       "      <td>155700291</td>\n",
       "      <td>CAA</td>\n",
       "      <td>C</td>\n",
       "      <td>NaN</td>\n",
       "      <td>NaN</td>\n",
       "      <td>0.149323</td>\n",
       "      <td>0.825873</td>\n",
       "      <td>0.007914</td>\n",
       "      <td>0.005489</td>\n",
       "      <td>0.245648</td>\n",
       "      <td>0.246278</td>\n",
       "      <td>0.245383</td>\n",
       "      <td>23:155700291:CAA:C</td>\n",
       "      <td>0</td>\n",
       "      <td>0.0</td>\n",
       "      <td>0.0</td>\n",
       "      <td>0.0</td>\n",
       "    </tr>\n",
       "  </tbody>\n",
       "</table>\n",
       "<p>20170234 rows × 18 columns</p>\n",
       "</div>"
      ],
      "text/plain": [
       "          #chrom        pos  ref alt         rsids nearest_genes      pval  \\\n",
       "0              1      13668    G   A     rs2691328         OR4F5  0.106658   \n",
       "1              1      14773    C   T   rs878915777         OR4F5  0.620115   \n",
       "2              1      15585    G   A   rs533630043         OR4F5  0.859628   \n",
       "3              1      16549    T   C  rs1262014613         OR4F5  0.321844   \n",
       "4              1      16567    G   C  rs1194064194         OR4F5  0.764225   \n",
       "...          ...        ...  ...  ..           ...           ...       ...   \n",
       "20170229      23  155697920    G   A           NaN           NaN  0.435606   \n",
       "20170230      23  155698443    C   A           NaN           NaN  0.559723   \n",
       "20170231      23  155698490    C   T           NaN           NaN  0.007623   \n",
       "20170232      23  155699751    C   T           NaN           NaN  0.160090   \n",
       "20170233      23  155700291  CAA   C           NaN           NaN  0.149323   \n",
       "\n",
       "             mlogp      beta    sebeta    af_alt  af_alt_cases  \\\n",
       "0         0.972006 -0.114822  0.071168  0.005846      0.005683   \n",
       "1         0.207528 -0.021548  0.043470  0.013501      0.013448   \n",
       "2         0.065689 -0.023716  0.134105  0.001112      0.001117   \n",
       "3         0.492355 -0.215787  0.217818  0.000563      0.000556   \n",
       "4         0.116779  0.021523  0.071757  0.004192      0.004207   \n",
       "...            ...       ...       ...       ...           ...   \n",
       "20170229  0.360906  0.004066  0.005215  0.291210      0.291159   \n",
       "20170230  0.252027  0.025926  0.044450  0.003263      0.003298   \n",
       "20170231  2.117900 -0.043135  0.016165  0.024340      0.023984   \n",
       "20170232  0.795637  0.007715  0.005492  0.245151      0.245738   \n",
       "20170233  0.825873  0.007914  0.005489  0.245648      0.246278   \n",
       "\n",
       "          af_alt_controls                  id  finemapped  prob  lead_r2  \\\n",
       "0                0.005914         1:13668:G:A           0   0.0      0.0   \n",
       "1                0.013524         1:14773:C:T           0   0.0      0.0   \n",
       "2                0.001109         1:15585:G:A           0   0.0      0.0   \n",
       "3                0.000566         1:16549:T:C           0   0.0      0.0   \n",
       "4                0.004186         1:16567:G:C           0   0.0      0.0   \n",
       "...                   ...                 ...         ...   ...      ...   \n",
       "20170229         0.291231    23:155697920:G:A           0   0.0      0.0   \n",
       "20170230         0.003248    23:155698443:C:A           0   0.0      0.0   \n",
       "20170231         0.024489    23:155698490:C:T           0   0.0      0.0   \n",
       "20170232         0.244904    23:155699751:C:T           0   0.0      0.0   \n",
       "20170233         0.245383  23:155700291:CAA:C           0   0.0      0.0   \n",
       "\n",
       "          cs_99  \n",
       "0           0.0  \n",
       "1           0.0  \n",
       "2           0.0  \n",
       "3           0.0  \n",
       "4           0.0  \n",
       "...         ...  \n",
       "20170229    0.0  \n",
       "20170230    0.0  \n",
       "20170231    0.0  \n",
       "20170232    0.0  \n",
       "20170233    0.0  \n",
       "\n",
       "[20170234 rows x 18 columns]"
      ]
     },
     "execution_count": 15,
     "metadata": {},
     "output_type": "execute_result"
    }
   ],
   "source": [
    "gwas"
   ]
  },
  {
   "cell_type": "markdown",
   "id": "9b39302a-cdfc-4f03-9ca7-e7c7369895a0",
   "metadata": {
    "tags": []
   },
   "source": [
    "### Create `causal` in `gwas` from gold-standard"
   ]
  },
  {
   "cell_type": "code",
   "execution_count": 16,
   "id": "7b75556c-e64b-489a-a8bb-98c2ed137e0b",
   "metadata": {},
   "outputs": [
    {
     "name": "stdout",
     "output_type": "stream",
     "text": [
      "33\n"
     ]
    }
   ],
   "source": [
    "# create a combined column in both dataframes\n",
    "causal['combined'] = causal['sentinel_variant.locus_GRCh38.chromosome'].astype(str) + '_' + causal['sentinel_variant.locus_GRCh38.position'].astype(str)\n",
    "gwas['combined'] = gwas['#chrom'].astype(str) + '_' + gwas['pos'].astype(str)\n",
    "\n",
    "# create a set from the 'combined' column in causal\n",
    "causal_combined_set = set(causal['combined'])\n",
    "\n",
    "# create a new column 'causal' in gwas that checks if 'combined' is in causal_combined_set\n",
    "gwas['causal'] = gwas['combined'].apply(lambda x: 1 if x in causal_combined_set else 0)\n",
    "\n",
    "print(gwas['causal'].sum())"
   ]
  },
  {
   "cell_type": "markdown",
   "id": "4644c05b-1b58-4540-8550-6b4db56bddc2",
   "metadata": {
    "jp-MarkdownHeadingCollapsed": true,
    "tags": []
   },
   "source": [
    "### Create `causal` in `gwas` from `lead_r2_analysis`"
   ]
  },
  {
   "cell_type": "raw",
   "id": "542a4958-bed8-49ec-8cb9-af53b3382e3d",
   "metadata": {},
   "source": [
    "# Create a set of 'id' values present in lead_r2_analysis for faster lookup\n",
    "lead_r2_analysis_set = set(lead_r2_analysis['v'].values)\n",
    "\n",
    "# Create the 'causal' column in the 'gwas' DataFrame, setting it to 1 if the 'id' is in lead_r2_analysis_set and 0 otherwise\n",
    "gwas['causal'] = gwas['id'].apply(lambda x: 1 if x in lead_r2_analysis_set else 0)\n",
    "\n",
    "# Count the number of 1s in the 'causal' column\n",
    "count_ones = gwas['causal'].sum()\n",
    "print(count_ones)"
   ]
  },
  {
   "cell_type": "markdown",
   "id": "0eaa64fa-1011-42ce-9180-3add7aaa5810",
   "metadata": {
    "jp-MarkdownHeadingCollapsed": true,
    "tags": []
   },
   "source": [
    "### Create `causal` in `gwas` from `pip_50`"
   ]
  },
  {
   "cell_type": "raw",
   "id": "eed4b90f-ab43-4ad1-9e9b-4683cbe228a1",
   "metadata": {},
   "source": [
    "# Create a set of 'v' values with pip_50 = 1 from finemap for faster lookup\n",
    "pip_50_set = set(finemap[finemap['pip_50'] == 1]['v'].values)\n",
    "\n",
    "# Create the 'causal' column in the 'gwas' DataFrame, setting it to 1 if the 'id' is in pip_50_set and 0 otherwise\n",
    "gwas['causal'] = gwas['id'].apply(lambda x: 1 if x in pip_50_set else 0)\n",
    "\n",
    "# Count the number of 1s in the 'causal' column\n",
    "count_ones = gwas['causal'].sum()\n",
    "print(count_ones)\n"
   ]
  },
  {
   "cell_type": "markdown",
   "id": "d5e503e8-1146-47d2-a25c-0f57905d4994",
   "metadata": {
    "tags": []
   },
   "source": [
    "### Extract `trait` from `finemap` to `gwas`"
   ]
  },
  {
   "cell_type": "code",
   "execution_count": 17,
   "id": "159fbc16-3d9c-4e80-b8dd-271a2088b20d",
   "metadata": {
    "tags": []
   },
   "outputs": [],
   "source": [
    "unique_trait = finemap['trait'].unique()\n",
    "trait_string = unique_trait[0]\n",
    "gwas['trait'] = trait_string"
   ]
  },
  {
   "cell_type": "markdown",
   "id": "3e2c180a-f352-4f91-bd0c-880c528274be",
   "metadata": {
    "tags": []
   },
   "source": [
    "### Create `gwas_fm` and combine `causal` and `causal_OTG`"
   ]
  },
  {
   "cell_type": "code",
   "execution_count": 18,
   "id": "ce2efe4a-8e1a-45ee-826e-271dd58aa6c2",
   "metadata": {},
   "outputs": [],
   "source": [
    "# Create a subset where 'finemapped' is equal to 1\n",
    "gwas_fm = gwas[gwas['finemapped'] == 1]"
   ]
  },
  {
   "cell_type": "raw",
   "id": "0d2e41d8-beb1-4144-a097-70ca720953d2",
   "metadata": {},
   "source": [
    "# Counting the number of rows where both 'causal' and 'causal_OTG' are equal to 1\n",
    "count_rows = len(gwas_fm[(gwas_fm['causal'] == 1) & (gwas_fm['causal_OTG'] == 1)])\n",
    "\n",
    "print(f\"The number of rows where both 'causal' and 'causal_OTG' are 1 is: {count_rows}\")"
   ]
  },
  {
   "cell_type": "raw",
   "id": "4b89c620-9f4e-44bb-90dc-1722eb4f0c49",
   "metadata": {},
   "source": [
    "# Update 'causal' to 1 wherever 'causal_OTG' is 1 and 'causal' is not 1\n",
    "gwas_fm.loc[(gwas_fm['causal_OTG'] == 1) & (gwas_fm['causal'] != 1), 'causal'] = 1\n",
    "\n",
    "# Counting the number of rows where both 'causal' and 'causal_OTG' are equal to 1\n",
    "count_rows = len(gwas_fm[(gwas_fm['causal'] == 1) & (gwas_fm['causal_OTG'] == 1)])\n",
    "\n",
    "print(f\"The number of rows where both 'causal' and 'causal_OTG' are 1 is: {count_rows}\")"
   ]
  },
  {
   "cell_type": "raw",
   "id": "2eeadb74-97ee-4bc3-9a50-d8eeb076529f",
   "metadata": {},
   "source": [
    "# Update 'causal' to 1 wherever 'causal_OTG' is 1 and 'causal' is not 1\n",
    "gwas_fm.loc[(gwas_fm['causal_OTG'] == 1) & (gwas_fm['causal'] != 1), 'causal'] = 1\n",
    "\n",
    "# Counting the number of rows where both 'causal' and 'causal_OTG' are equal to 1\n",
    "count_rows = len(gwas_fm[(gwas_fm['causal'] == 1) & (gwas_fm['causal_OTG'] == 1)])\n",
    "\n",
    "print(f\"The number of rows where both 'causal' and 'causal_OTG' are 1 is: {count_rows}\")"
   ]
  },
  {
   "cell_type": "markdown",
   "id": "ed88de4b-abb8-46d7-8fe6-f1dbf6935f42",
   "metadata": {
    "tags": []
   },
   "source": [
    "### Check for `finemap=1` & `causal=1`"
   ]
  },
  {
   "cell_type": "code",
   "execution_count": 19,
   "id": "47eba986-757e-43ef-be2f-4992b9545e86",
   "metadata": {},
   "outputs": [
    {
     "name": "stdout",
     "output_type": "stream",
     "text": [
      "17\n"
     ]
    }
   ],
   "source": [
    "# Find rows where 'finemapped', and 'causal' are all equal to 1\n",
    "filtered_rows = gwas_fm[(gwas_fm['finemapped'] == 1) & (gwas_fm['causal'] == 1)]\n",
    "\n",
    "# Print the total number of rows meeting the criteria\n",
    "print(len(filtered_rows))"
   ]
  },
  {
   "cell_type": "markdown",
   "id": "3cf737b3-4bef-484f-84eb-df54b4e773ee",
   "metadata": {
    "jp-MarkdownHeadingCollapsed": true,
    "tags": []
   },
   "source": [
    "### Plot `pos` vs `mlogp`"
   ]
  },
  {
   "cell_type": "raw",
   "id": "72a9c0b2-f43c-4639-bffd-d57187d997dc",
   "metadata": {},
   "source": [
    "import seaborn as sns\n",
    "import matplotlib.pyplot as plt\n",
    "import warnings\n",
    "warnings.simplefilter(action='ignore', category=FutureWarning)\n",
    "\n",
    "\n",
    "# Get unique chromosomes\n",
    "chromosomes = gwas_fm['#chrom'].unique()\n",
    "\n",
    "# Iterate over each unique chromosome and create a plot for each\n",
    "for chrom in chromosomes:\n",
    "    # Subset the data for the current chromosome\n",
    "    gwas_fm_chrom = gwas_fm[gwas_fm['#chrom'] == chrom]\n",
    "    \n",
    "    # Create a scatter plot with 'pos' on the x-axis, 'mlogp' on the y-axis, and colored by 'causal'\n",
    "    plt.figure()\n",
    "    sns.scatterplot(x='pos', y='mlogp', hue='causal', data=gwas_fm_chrom, alpha=0.7)\n",
    "    \n",
    "    # Set title and labels\n",
    "    plt.title(f'Chromosome {chrom}')\n",
    "    plt.xlabel('Position')\n",
    "    plt.ylabel('Mlogp')\n",
    "    \n",
    "    # Display the plot\n",
    "    plt.show()"
   ]
  },
  {
   "cell_type": "markdown",
   "id": "fbc2baa1-f995-4750-b4d6-98168c83ed6b",
   "metadata": {
    "tags": []
   },
   "source": [
    "### Print total number of unique genes"
   ]
  },
  {
   "cell_type": "code",
   "execution_count": 20,
   "id": "0cbfb2d9-a872-4eaf-809d-5e75d3209707",
   "metadata": {},
   "outputs": [
    {
     "name": "stdout",
     "output_type": "stream",
     "text": [
      "Total number of unique strings: 1577\n"
     ]
    }
   ],
   "source": [
    "import pandas as pd\n",
    "\n",
    "# Assuming gwas_fm is a pandas DataFrame; if not, import pandas and read your data into a DataFrame\n",
    "# gwas_fm = pd.read_csv('path/to/your/data.csv')\n",
    "\n",
    "# Split the 'nearest_genes' column into multiple columns using comma as a delimiter\n",
    "gwas_fm_split = gwas_fm['nearest_genes'].str.split(',', expand=True)\n",
    "\n",
    "# Name the new columns with prefix 'gene_'\n",
    "gwas_fm_split.columns = [f'gene_{n}' for n in range(gwas_fm_split.shape[1])]\n",
    "\n",
    "# Join the new columns back to the original data frame\n",
    "gwas_fm = gwas_fm.join(gwas_fm_split)\n",
    "\n",
    "# List of new columns\n",
    "new_cols = [f'gene_{n}' for n in range(gwas_fm_split.shape[1])]\n",
    "\n",
    "# Get all unique values across the specified columns and remove NaN\n",
    "unique_values = pd.unique(gwas_fm[new_cols].stack(dropna=True))\n",
    "\n",
    "# Print the total number of unique strings\n",
    "print(f'Total number of unique strings: {len(unique_values)}')"
   ]
  },
  {
   "cell_type": "code",
   "execution_count": 21,
   "id": "6a8db105-cd24-4d77-9544-d1180ca7a78a",
   "metadata": {},
   "outputs": [
    {
     "data": {
      "text/plain": [
       "Index(['#chrom', 'pos', 'ref', 'alt', 'rsids', 'nearest_genes', 'pval',\n",
       "       'mlogp', 'beta', 'sebeta', 'af_alt', 'af_alt_cases', 'af_alt_controls',\n",
       "       'id', 'finemapped', 'prob', 'lead_r2', 'cs_99', 'combined', 'causal',\n",
       "       'trait', 'gene_0', 'gene_1', 'gene_2'],\n",
       "      dtype='object')"
      ]
     },
     "execution_count": 21,
     "metadata": {},
     "output_type": "execute_result"
    }
   ],
   "source": [
    "gwas_fm.columns"
   ]
  },
  {
   "cell_type": "markdown",
   "id": "793473ce-cbbb-4582-9694-e6addfe0cf3e",
   "metadata": {
    "tags": []
   },
   "source": [
    "## Export to parquet"
   ]
  },
  {
   "cell_type": "code",
   "execution_count": 22,
   "id": "e1526ca2-c10a-450f-b99c-96beebac4ccf",
   "metadata": {},
   "outputs": [],
   "source": [
    "gwas_fm = gwas_fm.reset_index(drop=True)\n",
    "gwas_fm.to_parquet('gwas_fm_hyp.parquet')"
   ]
  },
  {
   "cell_type": "code",
   "execution_count": null,
   "id": "db2a69e4-c1e3-41fe-a23b-e9af072c13ad",
   "metadata": {},
   "outputs": [],
   "source": []
  }
 ],
 "metadata": {
  "kernelspec": {
   "display_name": "Python 3 (ipykernel)",
   "language": "python",
   "name": "python3"
  },
  "language_info": {
   "codemirror_mode": {
    "name": "ipython",
    "version": 3
   },
   "file_extension": ".py",
   "mimetype": "text/x-python",
   "name": "python",
   "nbconvert_exporter": "python",
   "pygments_lexer": "ipython3",
   "version": "3.11.5"
  }
 },
 "nbformat": 4,
 "nbformat_minor": 5
}
